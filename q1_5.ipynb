{
 "cells": [
  {
   "cell_type": "code",
   "execution_count": 2,
   "id": "de40717a",
   "metadata": {},
   "outputs": [],
   "source": [
    "#Write a function to print “hello_USERNAME!” USERNAME is the input of the function. The first line of the code has been defined as below.\n",
    "\n",
    "\n",
    "def hello(name):\n",
    "    return 'Hello '+ name\n"
   ]
  },
  {
   "cell_type": "code",
   "execution_count": null,
   "id": "41e247bb",
   "metadata": {},
   "outputs": [],
   "source": []
  },
  {
   "cell_type": "code",
   "execution_count": 3,
   "id": "8bfd21b3",
   "metadata": {},
   "outputs": [],
   "source": [
    "#Write a python function, first_odds that prints the odd numbers from 1-100 and returns nothing\n",
    "def first_odds():\n",
    "    for x in range(1, 101):\n",
    "        if x % 2 == 0:\n",
    "            continue\n",
    "        else:\n",
    "            print(x)"
   ]
  },
  {
   "cell_type": "code",
   "execution_count": 4,
   "id": "0d85f27a",
   "metadata": {},
   "outputs": [],
   "source": [
    "#Please write a Python function, max_num_in_list to return the max number of a given list. The first line of the code has been defined as below.\n",
    "\n",
    "\n",
    "def max_num_in_list(a_list):\n",
    "    if not a_list:\n",
    "        return None\n",
    "\n",
    "    maxnum = a_list[0]\n",
    "\n",
    "    for num in a_list:\n",
    "        if num > maxnum:\n",
    "            maxnum = num\n",
    "\n",
    "    return maxnum\n"
   ]
  },
  {
   "cell_type": "code",
   "execution_count": 5,
   "id": "2afff02e",
   "metadata": {},
   "outputs": [],
   "source": [
    "#Write a function to return if the given year is a leap year. A leap year is divisible by 4, but not divisible by 100, unless it is also divisible by 400. The return should be boolean Type (true/false).\n",
    "\n",
    "\n",
    "def is_leap_year(year):\n",
    "    if year % 4 == 0:\n",
    "        if year % 100 == 0:\n",
    "            if year % 400 == 0:\n",
    "                return True\n",
    "            else:\n",
    "                return False\n",
    "        else:\n",
    "            return True\n",
    "    else:\n",
    "        return False"
   ]
  },
  {
   "cell_type": "code",
   "execution_count": 1,
   "id": "29bf4616",
   "metadata": {},
   "outputs": [],
   "source": [
    "#Question 5\n",
    "#Write a function to check to see if all numbers in list are consecutive numbers. For example, [2,3,4,5,6,7] are consecutive numbers, but [1,2,4,5] are not consecutive numbers. The return should be boolean Type.\n",
    "\n",
    "def are_numbers_consecutive(numbers):\n",
    "    for i in range(len(numbers) - 1):\n",
    "        if numbers[i] + 1 != numbers[i + 1]:\n",
    "            return False\n",
    "    return True\n",
    "\n"
   ]
  },
  {
   "cell_type": "code",
   "execution_count": null,
   "id": "ed64eca1",
   "metadata": {},
   "outputs": [],
   "source": []
  }
 ],
 "metadata": {
  "kernelspec": {
   "display_name": "Python 3 (ipykernel)",
   "language": "python",
   "name": "python3"
  },
  "language_info": {
   "codemirror_mode": {
    "name": "ipython",
    "version": 3
   },
   "file_extension": ".py",
   "mimetype": "text/x-python",
   "name": "python",
   "nbconvert_exporter": "python",
   "pygments_lexer": "ipython3",
   "version": "3.11.3"
  }
 },
 "nbformat": 4,
 "nbformat_minor": 5
}
